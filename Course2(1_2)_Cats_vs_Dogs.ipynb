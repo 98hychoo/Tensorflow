{
  "nbformat": 4,
  "nbformat_minor": 0,
  "metadata": {
    "colab": {
      "name": "Course2(1_2)-Cats vs. Dogs.ipynb",
      "provenance": [],
      "authorship_tag": "ABX9TyPH+6npCQMMOdPZqXJ1QqAG",
      "include_colab_link": true
    },
    "kernelspec": {
      "name": "python3",
      "display_name": "Python 3"
    },
    "accelerator": "GPU"
  },
  "cells": [
    {
      "cell_type": "markdown",
      "metadata": {
        "id": "view-in-github",
        "colab_type": "text"
      },
      "source": [
        "<a href=\"https://colab.research.google.com/github/98hychoo/Tensorflow/blob/main/Course2(1_2)_Cats_vs_Dogs.ipynb\" target=\"_parent\"><img src=\"https://colab.research.google.com/assets/colab-badge.svg\" alt=\"Open In Colab\"/></a>"
      ]
    },
    {
      "cell_type": "markdown",
      "metadata": {
        "id": "XA1uN89evIXE"
      },
      "source": [
        "**Exercise 1 - Cats vs. Dogs**\n",
        "*   One solution for data overfitting is to use more data.\n",
        "*   We're going to use the full 25k images of dogs and cats.\n"
      ]
    },
    {
      "cell_type": "code",
      "metadata": {
        "id": "4iy-ZOnlvdIx"
      },
      "source": [
        "# ATTENTION: Please do not alter any of the provided code in the exercise. Only add your own code where indicated\n",
        "# ATTENTION: Please do not add or remove any cells in the exercise. The grader will check specific cells based on the cell position.\n",
        "# ATTENTION: Please use the provided epoch values when training.\n",
        "\n",
        "# In this exercise you will train a CNN on the FULL Cats-v-dogs dataset\n",
        "# This will require you doing a lot of data preprocessing because\n",
        "# the dataset isn't split into training and validation for you\n",
        "# This code block has all the required inputs\n",
        "import os\n",
        "import zipfile\n",
        "import random\n",
        "import tensorflow as tf\n",
        "import shutil\n",
        "from tensorflow.keras.optimizers import RMSprop\n",
        "from tensorflow.keras.preprocessing.image import ImageDataGenerator\n",
        "from shutil import copyfile\n",
        "from os import getcwd"
      ],
      "execution_count": 21,
      "outputs": []
    },
    {
      "cell_type": "markdown",
      "metadata": {
        "id": "aWJj8JYZ4sEN"
      },
      "source": [
        "### Downloaded the dataset and found out that the file name is kagglecatsanddogs_3367a"
      ]
    },
    {
      "cell_type": "code",
      "metadata": {
        "colab": {
          "base_uri": "https://localhost:8080/"
        },
        "id": "KlgHSegJvs_3",
        "outputId": "136db8b3-eba2-45a1-cc5d-beccfc894c0e"
      },
      "source": [
        "\n",
        "!wget --no-check-certificate \\\n",
        "    \"https://download.microsoft.com/download/3/E/1/3E1C3F21-ECDB-4869-8368-6DEBA77B919F/kagglecatsanddogs_3367a.zip\" \\\n",
        "    -O \"/kagglecatsanddogs_3367a.zip\"\n"
      ],
      "execution_count": 64,
      "outputs": [
        {
          "output_type": "stream",
          "text": [
            "--2021-02-19 06:59:48--  https://download.microsoft.com/download/3/E/1/3E1C3F21-ECDB-4869-8368-6DEBA77B919F/kagglecatsanddogs_3367a.zip\n",
            "Resolving download.microsoft.com (download.microsoft.com)... 23.1.244.151, 2600:1409:3800:1ab::e59, 2600:1409:3800:18d::e59\n",
            "Connecting to download.microsoft.com (download.microsoft.com)|23.1.244.151|:443... connected.\n",
            "HTTP request sent, awaiting response... 200 OK\n",
            "Length: 824894548 (787M) [application/octet-stream]\n",
            "Saving to: ‘/kagglecatsanddogs_3367a.zip’\n",
            "\n",
            "/kagglecatsanddogs_ 100%[===================>] 786.68M   104MB/s    in 7.6s    \n",
            "\n",
            "2021-02-19 06:59:56 (103 MB/s) - ‘/kagglecatsanddogs_3367a.zip’ saved [824894548/824894548]\n",
            "\n"
          ],
          "name": "stdout"
        }
      ]
    },
    {
      "cell_type": "code",
      "metadata": {
        "id": "m33pm3hy2x99"
      },
      "source": [
        "import os\n",
        "import zipfile\n",
        "\n",
        "local_zip = '/kagglecatsanddogs_3367a.zip'\n",
        "\n",
        "zip_ref = zipfile.ZipFile(local_zip, 'r')\n",
        "\n",
        "zip_ref.extractall('/kagglecatsanddogs_3367a')\n",
        "zip_ref.close()"
      ],
      "execution_count": 66,
      "outputs": []
    },
    {
      "cell_type": "code",
      "metadata": {
        "id": "eCACjskevvmI",
        "colab": {
          "base_uri": "https://localhost:8080/"
        },
        "outputId": "687bc74e-b432-41f4-cddb-2390b86cace9"
      },
      "source": [
        "print(len(os.listdir('/kagglecatsanddogs_3367a/PetImages/Cat')))\n",
        "print(len(os.listdir('/kagglecatsanddogs_3367a/PetImages/Dog/')))\n",
        "\n",
        "# Expected Output:\n",
        "# 12501\n",
        "# 12501"
      ],
      "execution_count": 67,
      "outputs": [
        {
          "output_type": "stream",
          "text": [
            "12501\n",
            "12501\n"
          ],
          "name": "stdout"
        }
      ]
    },
    {
      "cell_type": "code",
      "metadata": {
        "id": "9niOypmWvyGh"
      },
      "source": [
        "# Use os.mkdir to create your directories\n",
        "# You will need a directory for cats-v-dogs, and subdirectories for training\n",
        "# and testing. These in turn will need subdirectories for 'cats' and 'dogs'\n",
        "try:\n",
        "    #YOUR CODE GOES HERE\n",
        "    os.mkdir('/kagglecatsanddogs_3367a/cats-v-dogs')\n",
        "    os.mkdir('/kagglecatsanddogs_3367a/cats-v-dogs/training')\n",
        "    os.mkdir('/kagglecatsanddogs_3367a/cats-v-dogs/testing')\n",
        "    os.mkdir('/kagglecatsanddogs_3367a/cats-v-dogs/training/dogs')\n",
        "    os.mkdir('/kagglecatsanddogs_3367a/cats-v-dogs/training/cats')\n",
        "    os.mkdir('/kagglecatsanddogs_3367a/cats-v-dogs/testing/dogs')\n",
        "    os.mkdir('/kagglecatsanddogs_3367a/cats-v-dogs/testing/cats')\n",
        "except OSError:\n",
        "    pass \n",
        "\n"
      ],
      "execution_count": 68,
      "outputs": []
    },
    {
      "cell_type": "code",
      "metadata": {
        "id": "dQCg-BMmv2nr",
        "colab": {
          "base_uri": "https://localhost:8080/"
        },
        "outputId": "80daf542-a2b4-4a9c-c324-c644aa2f514e"
      },
      "source": [
        "# Write a python function called split_data which takes\n",
        "# a SOURCE directory containing the files\n",
        "# a TRAINING directory that a portion of the files will be copied to\n",
        "# a TESTING directory that a portion of the files will be copied to\n",
        "# a SPLIT SIZE to determine the portion\n",
        "# The files should also be randomized, so that the training set is a random\n",
        "# X% of the files, and the test set is the remaining files\n",
        "# SO, for example, if SOURCE is PetImages/Cat, and SPLIT SIZE is .9\n",
        "# Then 90% of the images in PetImages/Cat will be copied to the TRAINING dir\n",
        "# and 10% of the images will be copied to the TESTING dir\n",
        "# Also -- All images should be checked, and if they have a zero file length,\n",
        "# they will not be copied over\n",
        "#\n",
        "# os.listdir(DIRECTORY) gives you a listing of the contents of that directory\n",
        "# os.path.getsize(PATH) gives you the size of the file\n",
        "# copyfile(source, destination) copies a file from source to destination\n",
        "# random.sample(list, len(list)) shuffles a list\n",
        "def split_data(SOURCE, TRAINING, TESTING, SPLIT_SIZE):\n",
        "# YOUR CODE STARTS HERE\n",
        "    files = []\n",
        "    for file in os.listdir(SOURCE):\n",
        "        file_path = SOURCE + file\n",
        "        if os.path.getsize(file_path):\n",
        "            files.append(file)\n",
        "        else:\n",
        "            print('{} is zero length, so ignoring'.format(file))    \n",
        "    n_files = len(files)\n",
        "    split_point = int(n_files * SPLIT_SIZE)    \n",
        "    shuffled = random.sample(files, n_files)\n",
        "    train_set = shuffled[:split_point]\n",
        "    test_set = shuffled[split_point:]\n",
        "    for file_name in train_set:\n",
        "        copyfile(SOURCE + file, TRAINING + file)   \n",
        "    for file_name in test_set:\n",
        "        copyfile(SOURCE + file, TESTING + file)\n",
        "# YOUR CODE ENDS HERE\n",
        "\n",
        "\n",
        "CAT_SOURCE_DIR = \"/kagglecatsanddogs_3367a/PetImages/Cat/\"\n",
        "TRAINING_CATS_DIR = \"/kagglecatsanddogs_3367a/cats-v-dogs/training/cats/\"\n",
        "TESTING_CATS_DIR = \"/kagglecatsanddogs_3367a/cats-v-dogs/testing/cats/\"\n",
        "DOG_SOURCE_DIR = \"/kagglecatsanddogs_3367a/PetImages/Dog/\"\n",
        "TRAINING_DOGS_DIR = \"/kagglecatsanddogs_3367a/cats-v-dogs/training/dogs/\"\n",
        "TESTING_DOGS_DIR = \"/kagglecatsanddogs_3367a/cats-v-dogs/testing/dogs/\"\n",
        "\n",
        "split_size = .9\n",
        "split_data(CAT_SOURCE_DIR, TRAINING_CATS_DIR, TESTING_CATS_DIR, split_size)\n",
        "split_data(DOG_SOURCE_DIR, TRAINING_DOGS_DIR, TESTING_DOGS_DIR, split_size)"
      ],
      "execution_count": 63,
      "outputs": [
        {
          "output_type": "stream",
          "text": [
            "666.jpg is zero length, so ignoring\n",
            "11702.jpg is zero length, so ignoring\n"
          ],
          "name": "stdout"
        }
      ]
    },
    {
      "cell_type": "code",
      "metadata": {
        "id": "k16EtBM5v-Te",
        "colab": {
          "base_uri": "https://localhost:8080/"
        },
        "outputId": "788ebaf0-6fc6-44c8-a7f8-26eed721e9f9"
      },
      "source": [
        "print(len(os.listdir('/kagglecatsanddogs_3367a/cats-v-dogs/training/cats/')))\n",
        "print(len(os.listdir('/kagglecatsanddogs_3367a/cats-v-dogs/training/dogs/')))\n",
        "print(len(os.listdir('/kagglecatsanddogs_3367a/cats-v-dogs/testing/cats/')))\n",
        "print(len(os.listdir('/kagglecatsanddogs_3367a/cats-v-dogs/testing/dogs/')))\n",
        "\n",
        "# Expected output:\n",
        "# 11250\n",
        "# 11250\n",
        "# 1250\n",
        "# 1250"
      ],
      "execution_count": 53,
      "outputs": [
        {
          "output_type": "stream",
          "text": [
            "11250\n",
            "11250\n",
            "1250\n",
            "1250\n"
          ],
          "name": "stdout"
        }
      ]
    },
    {
      "cell_type": "code",
      "metadata": {
        "id": "Pk5sL1rNwBMr"
      },
      "source": [
        "# DEFINE A KERAS MODEL TO CLASSIFY CATS V DOGS\n",
        "# USE AT LEAST 3 CONVOLUTION LAYERS\n",
        "model = tf.keras.models.Sequential([\n",
        "                                    tf.keras.layers.Conv2D(32, (3,3), activation='relu', input_shape=(150, 150, 3)),\n",
        "                                    tf.keras.layers.MaxPooling2D(2,2),\n",
        "                                    tf.keras.layers.Conv2D(32, (3,3), activation='relu'),\n",
        "                                    tf.keras.layers.MaxPooling2D(2,2),\n",
        "                                    tf.keras.layers.Conv2D(64, (2,2), activation='relu'),\n",
        "                                    tf.keras.layers.MaxPooling2D(2,2),\n",
        "                                    tf.keras.layers.Flatten(),\n",
        "                                    tf.keras.layers.Dense(512, activation='relu'),\n",
        "                                    tf.keras.layers.Dense(1, activation='sigmoid')\n",
        "])\n",
        "\n",
        "model.compile(optimizer=RMSprop(lr=0.001), loss='binary_crossentropy', metrics=['acc'])"
      ],
      "execution_count": 54,
      "outputs": []
    },
    {
      "cell_type": "code",
      "metadata": {
        "colab": {
          "base_uri": "https://localhost:8080/"
        },
        "id": "TRqUZe1fARCg",
        "outputId": "c68ad50e-fea3-454b-d38d-8fa1b4630bd3"
      },
      "source": [
        "TRAINING_DIR = '/kagglecatsanddogs_3367a/cats-v-dogs/training/'\n",
        "train_datagen = ImageDataGenerator(rescale=1.0/255)\n",
        "\n",
        "\n",
        "# NOTE: YOU MUST USE A BATCH SIZE OF 10 (batch_size=10) FOR THE \n",
        "# TRAIN GENERATOR.\n",
        "train_generator = train_datagen.flow_from_directory(TRAINING_DIR,target_size=(150,150),class_mode='binary',batch_size=20)\n",
        "\n",
        "VALIDATION_DIR = '/kagglecatsanddogs_3367a/cats-v-dogs/testing/'\n",
        "validation_datagen = ImageDataGenerator(rescale=1.0/255)\n",
        "\n",
        "# NOTE: YOU MUST USE A BACTH SIZE OF 10 (batch_size=10) FOR THE \n",
        "# VALIDATION GENERATOR.\n",
        "validation_generator = validation_datagen.flow_from_directory(VALIDATION_DIR,target_size=(150,150),class_mode='binary',batch_size=20)\n",
        "\n",
        "\n",
        "\n",
        "\n",
        "# Expected Output:\n",
        "# Found 22498 images belonging to 2 classes.\n",
        "# Found 2500 images belonging to 2 classes."
      ],
      "execution_count": 56,
      "outputs": [
        {
          "output_type": "stream",
          "text": [
            "Found 22498 images belonging to 2 classes.\n",
            "Found 2500 images belonging to 2 classes.\n"
          ],
          "name": "stdout"
        }
      ]
    },
    {
      "cell_type": "code",
      "metadata": {
        "colab": {
          "base_uri": "https://localhost:8080/"
        },
        "id": "1gyBKx3qAtzo",
        "outputId": "524a4bed-fb9f-4552-a383-886058b5ffb7"
      },
      "source": [
        "import warnings\n",
        "warnings.filterwarnings('ignore')\n",
        "print('warnings ignored')"
      ],
      "execution_count": 58,
      "outputs": [
        {
          "output_type": "stream",
          "text": [
            "warnings ignored\n"
          ],
          "name": "stdout"
        }
      ]
    },
    {
      "cell_type": "code",
      "metadata": {
        "colab": {
          "base_uri": "https://localhost:8080/"
        },
        "id": "d4rRXebKAZKO",
        "outputId": "37c702e4-9633-4c10-ab6e-619a901a67d0"
      },
      "source": [
        "history = model.fit_generator(train_generator,\n",
        "                              epochs=5,\n",
        "                              verbose=1,\n",
        "                              validation_data=validation_generator)"
      ],
      "execution_count": 61,
      "outputs": [
        {
          "output_type": "stream",
          "text": [
            "Epoch 1/5\n",
            "1125/1125 [==============================] - 91s 81ms/step - loss: 0.3939 - acc: 0.8283 - val_loss: 0.4167 - val_acc: 0.8176\n",
            "Epoch 2/5\n",
            "1125/1125 [==============================] - 99s 88ms/step - loss: 0.3534 - acc: 0.8506 - val_loss: 0.4259 - val_acc: 0.8080\n",
            "Epoch 3/5\n",
            "1125/1125 [==============================] - 97s 86ms/step - loss: 0.3272 - acc: 0.8646 - val_loss: 0.4249 - val_acc: 0.8236\n",
            "Epoch 4/5\n",
            "1125/1125 [==============================] - 86s 77ms/step - loss: 0.3050 - acc: 0.8778 - val_loss: 0.6676 - val_acc: 0.7408\n",
            "Epoch 5/5\n",
            "1125/1125 [==============================] - 92s 82ms/step - loss: 0.3001 - acc: 0.8810 - val_loss: 0.4860 - val_acc: 0.8024\n"
          ],
          "name": "stdout"
        }
      ]
    },
    {
      "cell_type": "code",
      "metadata": {
        "colab": {
          "base_uri": "https://localhost:8080/",
          "height": 562
        },
        "id": "uAaV2yZEAm6K",
        "outputId": "a8a7e187-7dd8-4ec4-9790-146fa1cb8020"
      },
      "source": [
        "# PLOT LOSS AND ACCURACY\n",
        "%matplotlib inline\n",
        "\n",
        "import matplotlib.image  as mpimg\n",
        "import matplotlib.pyplot as plt\n",
        "\n",
        "#-----------------------------------------------------------\n",
        "# Retrieve a list of list results on training and test data\n",
        "# sets for each training epoch\n",
        "#-----------------------------------------------------------\n",
        "acc=history.history['acc']\n",
        "val_acc=history.history['val_acc']\n",
        "loss=history.history['loss']\n",
        "val_loss=history.history['val_loss']\n",
        "\n",
        "epochs=range(len(acc)) # Get number of epochs\n",
        "\n",
        "#------------------------------------------------\n",
        "# Plot training and validation accuracy per epoch\n",
        "#------------------------------------------------\n",
        "plt.plot(epochs, acc, 'r', \"Training Accuracy\")\n",
        "plt.plot(epochs, val_acc, 'b', \"Validation Accuracy\")\n",
        "plt.title('Training and validation accuracy')\n",
        "plt.figure()\n",
        "\n",
        "#------------------------------------------------\n",
        "# Plot training and validation loss per epoch\n",
        "#------------------------------------------------\n",
        "plt.plot(epochs, loss, 'r', \"Training Loss\")\n",
        "plt.plot(epochs, val_loss, 'b', \"Validation Loss\")\n",
        "\n",
        "\n",
        "plt.title('Training and validation loss')\n",
        "\n",
        "# Desired output. Charts with training and validation metrics. No crash :)"
      ],
      "execution_count": 62,
      "outputs": [
        {
          "output_type": "execute_result",
          "data": {
            "text/plain": [
              "Text(0.5, 1.0, 'Training and validation loss')"
            ]
          },
          "metadata": {
            "tags": []
          },
          "execution_count": 62
        },
        {
          "output_type": "display_data",
          "data": {
            "image/png": "[encoded data removed]",
            "text/plain": [
              "<Figure size 432x288 with 1 Axes>"
            ]
          },
          "metadata": {
            "tags": [],
            "needs_background": "light"
          }
        },
        {
          "output_type": "display_data",
          "data": {
            "image/png": "[encoded data removed]",
            "text/plain": [
              "<Figure size 432x288 with 1 Axes>"
            ]
          },
          "metadata": {
            "tags": [],
            "needs_background": "light"
          }
        }
      ]
    }
  ]
}