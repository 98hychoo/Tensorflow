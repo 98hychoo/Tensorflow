{
  "nbformat": 4,
  "nbformat_minor": 0,
  "metadata": {
    "accelerator": "GPU",
    "colab": {
      "name": "Course2(2_1)_Horse_or_Human_Augmentation - Notebook.ipynb",
      "provenance": [],
      "collapsed_sections": [],
      "include_colab_link": true
    },
    "kernelspec": {
      "display_name": "Python 3",
      "name": "python3"
    }
  },
  "cells": [
    {
      "cell_type": "markdown",
      "metadata": {
        "id": "view-in-github",
        "colab_type": "text"
      },
      "source": [
        "<a href=\"https://colab.research.google.com/github/98hychoo/Tensorflow/blob/main/Course2(2_1)_Horse_or_Human_Augmentation_Notebook.ipynb\" target=\"_parent\"><img src=\"https://colab.research.google.com/assets/colab-badge.svg\" alt=\"Open In Colab\"/></a>"
      ]
    },
    {
      "cell_type": "markdown",
      "metadata": {
        "id": "rX8mhOLljYeM"
      },
      "source": [
        "##### Copyright 2019 The TensorFlow Authors."
      ]
    },
    {
      "cell_type": "code",
      "metadata": {
        "cellView": "form",
        "id": "BZSlp3DAjdYf"
      },
      "source": [
        "#@title Licensed under the Apache License, Version 2.0 (the \"License\");\n",
        "# you may not use this file except in compliance with the License.\n",
        "# You may obtain a copy of the License at\n",
        "#\n",
        "# https://www.apache.org/licenses/LICENSE-2.0\n",
        "#\n",
        "# Unless required by applicable law or agreed to in writing, software\n",
        "# distributed under the License is distributed on an \"AS IS\" BASIS,\n",
        "# WITHOUT WARRANTIES OR CONDITIONS OF ANY KIND, either express or implied.\n",
        "# See the License for the specific language governing permissions and\n",
        "# limitations under the License."
      ],
      "execution_count": null,
      "outputs": []
    },
    {
      "cell_type": "markdown",
      "metadata": {
        "id": "_L66P3b_cprW"
      },
      "source": [
        "## You don't just need a broad set of images for training, you also need them **for testing** or the image augmentation won't help you very much.\n",
        "\n",
        "The image augmentation introduces a random element to the training images but if the validation set doesn't have the same randomness, then its results can fluctuate."
      ]
    },
    {
      "cell_type": "code",
      "metadata": {
        "colab": {
          "base_uri": "https://localhost:8080/"
        },
        "id": "RXZT2UsyIVe_",
        "outputId": "eb0c0750-bc2e-4ddc-b73c-7ebdc5958fc7"
      },
      "source": [
        "!wget --no-check-certificate \\\n",
        "    https://storage.googleapis.com/laurencemoroney-blog.appspot.com/horse-or-human.zip \\\n",
        "    -O /tmp/horse-or-human.zip\n",
        "\n",
        "!wget --no-check-certificate \\\n",
        "    https://storage.googleapis.com/laurencemoroney-blog.appspot.com/validation-horse-or-human.zip \\\n",
        "    -O /tmp/validation-horse-or-human.zip\n",
        "  \n",
        "import os\n",
        "import zipfile\n",
        "\n",
        "local_zip = '/tmp/horse-or-human.zip'\n",
        "zip_ref = zipfile.ZipFile(local_zip, 'r')\n",
        "zip_ref.extractall('/tmp/horse-or-human')\n",
        "local_zip = '/tmp/validation-horse-or-human.zip'\n",
        "zip_ref = zipfile.ZipFile(local_zip, 'r')\n",
        "zip_ref.extractall('/tmp/validation-horse-or-human')\n",
        "zip_ref.close()\n",
        "# Directory with our training horse pictures\n",
        "train_horse_dir = os.path.join('/tmp/horse-or-human/horses')\n",
        "\n",
        "# Directory with our training human pictures\n",
        "train_human_dir = os.path.join('/tmp/horse-or-human/humans')\n",
        "\n",
        "# Directory with our training horse pictures\n",
        "validation_horse_dir = os.path.join('/tmp/validation-horse-or-human/horses')\n",
        "\n",
        "# Directory with our training human pictures\n",
        "validation_human_dir = os.path.join('/tmp/validation-horse-or-human/humans')"
      ],
      "execution_count": null,
      "outputs": [
        {
          "output_type": "stream",
          "text": [
            "--2021-02-22 06:14:52--  https://storage.googleapis.com/laurencemoroney-blog.appspot.com/horse-or-human.zip\n",
            "Resolving storage.googleapis.com (storage.googleapis.com)... 172.253.122.128, 142.250.31.128, 172.217.13.80, ...\n",
            "Connecting to storage.googleapis.com (storage.googleapis.com)|172.253.122.128|:443... connected.\n",
            "HTTP request sent, awaiting response... 200 OK\n",
            "Length: 149574867 (143M) [application/zip]\n",
            "Saving to: ‘/tmp/horse-or-human.zip’\n",
            "\n",
            "/tmp/horse-or-human 100%[===================>] 142.65M   154MB/s    in 0.9s    \n",
            "\n",
            "2021-02-22 06:14:53 (154 MB/s) - ‘/tmp/horse-or-human.zip’ saved [149574867/149574867]\n",
            "\n",
            "--2021-02-22 06:14:53--  https://storage.googleapis.com/laurencemoroney-blog.appspot.com/validation-horse-or-human.zip\n",
            "Resolving storage.googleapis.com (storage.googleapis.com)... 142.250.31.128, 172.217.7.240, 172.217.15.80, ...\n",
            "Connecting to storage.googleapis.com (storage.googleapis.com)|142.250.31.128|:443... connected.\n",
            "HTTP request sent, awaiting response... 200 OK\n",
            "Length: 11480187 (11M) [application/zip]\n",
            "Saving to: ‘/tmp/validation-horse-or-human.zip’\n",
            "\n",
            "/tmp/validation-hor 100%[===================>]  10.95M  --.-KB/s    in 0.1s    \n",
            "\n",
            "2021-02-22 06:14:53 (107 MB/s) - ‘/tmp/validation-horse-or-human.zip’ saved [11480187/11480187]\n",
            "\n"
          ],
          "name": "stdout"
        }
      ]
    },
    {
      "cell_type": "markdown",
      "metadata": {
        "id": "5oqBkNBJmtUv"
      },
      "source": [
        "## Building a Small Model from Scratch\n",
        "\n",
        "But before we continue, let's start defining the model:\n",
        "\n",
        "Step 1 will be to import tensorflow."
      ]
    },
    {
      "cell_type": "code",
      "metadata": {
        "id": "qvfZg3LQbD-5"
      },
      "source": [
        "import tensorflow as tf"
      ],
      "execution_count": null,
      "outputs": []
    },
    {
      "cell_type": "markdown",
      "metadata": {
        "id": "BnhYCP4tdqjC"
      },
      "source": [
        "We then add convolutional layers as in the previous example, and flatten the final result to feed into the densely connected layers."
      ]
    },
    {
      "cell_type": "markdown",
      "metadata": {
        "id": "gokG5HKpdtzm"
      },
      "source": [
        "Finally we add the densely connected layers. \n",
        "\n",
        "Note that because we are facing a two-class classification problem, i.e. a *binary classification problem*, we will end our network with a [*sigmoid* activation](https://wikipedia.org/wiki/Sigmoid_function), so that the output of our network will be a single scalar between 0 and 1, encoding the probability that the current image is class 1 (as opposed to class 0)."
      ]
    },
    {
      "cell_type": "code",
      "metadata": {
        "id": "PixZ2s5QbYQ3"
      },
      "source": [
        "model = tf.keras.models.Sequential([\n",
        "    # Note the input shape is the desired size of the image 300x300 with 3 bytes color\n",
        "    # This is the first convolution\n",
        "    tf.keras.layers.Conv2D(16, (3,3), activation='relu', input_shape=(300, 300, 3)),\n",
        "    tf.keras.layers.MaxPooling2D(2, 2),\n",
        "    # The second convolution\n",
        "    tf.keras.layers.Conv2D(32, (3,3), activation='relu'),\n",
        "    tf.keras.layers.MaxPooling2D(2,2),\n",
        "    # The third convolution\n",
        "    tf.keras.layers.Conv2D(64, (3,3), activation='relu'),\n",
        "    tf.keras.layers.MaxPooling2D(2,2),\n",
        "    # The fourth convolution\n",
        "    tf.keras.layers.Conv2D(64, (3,3), activation='relu'),\n",
        "    tf.keras.layers.MaxPooling2D(2,2),\n",
        "    # The fifth convolution\n",
        "    tf.keras.layers.Conv2D(64, (3,3), activation='relu'),\n",
        "    tf.keras.layers.MaxPooling2D(2,2),\n",
        "    # Flatten the results to feed into a DNN\n",
        "    tf.keras.layers.Flatten(),\n",
        "    # 512 neuron hidden layer\n",
        "    tf.keras.layers.Dense(512, activation='relu'),\n",
        "    # Only 1 output neuron. It will contain a value from 0-1 where 0 for 1 class ('horses') and 1 for the other ('humans')\n",
        "    tf.keras.layers.Dense(1, activation='sigmoid')\n",
        "])"
      ],
      "execution_count": null,
      "outputs": []
    },
    {
      "cell_type": "code",
      "metadata": {
        "id": "8DHWhFP_uhq3"
      },
      "source": [
        "from tensorflow.keras.optimizers import RMSprop\n",
        "\n",
        "model.compile(loss='binary_crossentropy',\n",
        "              optimizer=RMSprop(lr=1e-4),\n",
        "              metrics=['accuracy'])"
      ],
      "execution_count": null,
      "outputs": []
    },
    {
      "cell_type": "code",
      "metadata": {
        "colab": {
          "base_uri": "https://localhost:8080/"
        },
        "id": "ClebU9NJg99G",
        "outputId": "e42efe2f-c54e-45c9-9414-a73f72269634"
      },
      "source": [
        "from tensorflow.keras.preprocessing.image import ImageDataGenerator\n",
        "\n",
        "# All images will be rescaled by 1./255\n",
        "train_datagen = ImageDataGenerator(\n",
        "      rescale=1./255,\n",
        "      rotation_range=40,\n",
        "      width_shift_range=0.2,\n",
        "      height_shift_range=0.2,\n",
        "      shear_range=0.2,\n",
        "      zoom_range=0.2,\n",
        "      horizontal_flip=True,\n",
        "      fill_mode='nearest')\n",
        "\n",
        "validation_datagen = ImageDataGenerator(rescale=1/255)\n",
        "\n",
        "# Flow training images in batches of 128 using train_datagen generator\n",
        "train_generator = train_datagen.flow_from_directory(\n",
        "        '/tmp/horse-or-human/',  # This is the source directory for training images\n",
        "        target_size=(300, 300),  # All images will be resized to 150x150\n",
        "        batch_size=128,\n",
        "        # Since we use binary_crossentropy loss, we need binary labels\n",
        "        class_mode='binary')\n",
        "\n",
        "# Flow training images in batches of 128 using train_datagen generator\n",
        "validation_generator = validation_datagen.flow_from_directory(\n",
        "        '/tmp/validation-horse-or-human/',  # This is the source directory for training images\n",
        "        target_size=(300, 300),  # All images will be resized to 150x150\n",
        "        batch_size=32,\n",
        "        # Since we use binary_crossentropy loss, we need binary labels\n",
        "        class_mode='binary')"
      ],
      "execution_count": null,
      "outputs": [
        {
          "output_type": "stream",
          "text": [
            "Found 1027 images belonging to 2 classes.\n",
            "Found 256 images belonging to 2 classes.\n"
          ],
          "name": "stdout"
        }
      ]
    },
    {
      "cell_type": "code",
      "metadata": {
        "colab": {
          "base_uri": "https://localhost:8080/"
        },
        "id": "Fb1_lgobv81m",
        "outputId": "86d3ecda-3b53-4ebe-8b69-d971bbf969fb"
      },
      "source": [
        "history = model.fit(\n",
        "      train_generator,\n",
        "      steps_per_epoch=8,  \n",
        "      epochs=100,\n",
        "      verbose=1,\n",
        "      validation_data = validation_generator,\n",
        "      validation_steps=8)"
      ],
      "execution_count": null,
      "outputs": [
        {
          "output_type": "stream",
          "text": [
            "Epoch 1/100\n",
            "8/8 [==============================] - 27s 3s/step - loss: 0.6994 - accuracy: 0.4799 - val_loss: 0.6588 - val_accuracy: 0.6172\n",
            "Epoch 2/100\n",
            "8/8 [==============================] - 21s 3s/step - loss: 0.6829 - accuracy: 0.5955 - val_loss: 0.6322 - val_accuracy: 0.5547\n",
            "Epoch 3/100\n",
            "8/8 [==============================] - 21s 3s/step - loss: 0.6776 - accuracy: 0.5348 - val_loss: 0.5969 - val_accuracy: 0.6445\n",
            "Epoch 4/100\n",
            "8/8 [==============================] - 21s 3s/step - loss: 0.6462 - accuracy: 0.7247 - val_loss: 0.5243 - val_accuracy: 0.7891\n",
            "Epoch 5/100\n",
            "8/8 [==============================] - 21s 3s/step - loss: 0.6126 - accuracy: 0.7162 - val_loss: 0.4872 - val_accuracy: 0.7891\n",
            "Epoch 6/100\n",
            "8/8 [==============================] - 21s 3s/step - loss: 0.5810 - accuracy: 0.7430 - val_loss: 1.1889 - val_accuracy: 0.5039\n",
            "Epoch 7/100\n",
            "8/8 [==============================] - 21s 3s/step - loss: 0.6330 - accuracy: 0.6489 - val_loss: 0.5039 - val_accuracy: 0.7695\n",
            "Epoch 8/100\n",
            "8/8 [==============================] - 21s 3s/step - loss: 0.5735 - accuracy: 0.6957 - val_loss: 0.5599 - val_accuracy: 0.7344\n",
            "Epoch 9/100\n",
            "8/8 [==============================] - 21s 3s/step - loss: 0.5322 - accuracy: 0.7593 - val_loss: 0.9756 - val_accuracy: 0.5898\n",
            "Epoch 10/100\n",
            "8/8 [==============================] - 21s 3s/step - loss: 0.5044 - accuracy: 0.7617 - val_loss: 0.6425 - val_accuracy: 0.7422\n",
            "Epoch 11/100\n",
            "8/8 [==============================] - 21s 3s/step - loss: 0.4670 - accuracy: 0.7841 - val_loss: 0.4852 - val_accuracy: 0.8086\n",
            "Epoch 12/100\n",
            "8/8 [==============================] - 21s 3s/step - loss: 0.5108 - accuracy: 0.7521 - val_loss: 0.8556 - val_accuracy: 0.6797\n",
            "Epoch 13/100\n",
            "8/8 [==============================] - 21s 3s/step - loss: 0.5056 - accuracy: 0.7612 - val_loss: 0.9824 - val_accuracy: 0.6367\n",
            "Epoch 14/100\n",
            "8/8 [==============================] - 21s 3s/step - loss: 0.4555 - accuracy: 0.7797 - val_loss: 0.7291 - val_accuracy: 0.7188\n",
            "Epoch 15/100\n",
            "8/8 [==============================] - 23s 3s/step - loss: 0.4205 - accuracy: 0.7998 - val_loss: 0.8449 - val_accuracy: 0.7070\n",
            "Epoch 16/100\n",
            "8/8 [==============================] - 21s 3s/step - loss: 0.4349 - accuracy: 0.7933 - val_loss: 0.5737 - val_accuracy: 0.8047\n",
            "Epoch 17/100\n",
            "8/8 [==============================] - 21s 3s/step - loss: 0.4929 - accuracy: 0.7526 - val_loss: 1.1570 - val_accuracy: 0.6602\n",
            "Epoch 18/100\n",
            "8/8 [==============================] - 21s 3s/step - loss: 0.3718 - accuracy: 0.8389 - val_loss: 1.0032 - val_accuracy: 0.6953\n",
            "Epoch 19/100\n",
            "8/8 [==============================] - 21s 3s/step - loss: 0.3827 - accuracy: 0.8205 - val_loss: 0.8429 - val_accuracy: 0.6875\n",
            "Epoch 20/100\n",
            "8/8 [==============================] - 21s 3s/step - loss: 0.3993 - accuracy: 0.8380 - val_loss: 1.1708 - val_accuracy: 0.6641\n",
            "Epoch 21/100\n",
            "8/8 [==============================] - 21s 3s/step - loss: 0.3571 - accuracy: 0.8468 - val_loss: 1.1382 - val_accuracy: 0.6758\n",
            "Epoch 22/100\n",
            "8/8 [==============================] - 21s 3s/step - loss: 0.3573 - accuracy: 0.8252 - val_loss: 2.0817 - val_accuracy: 0.5508\n",
            "Epoch 23/100\n",
            "8/8 [==============================] - 23s 3s/step - loss: 0.3610 - accuracy: 0.8347 - val_loss: 1.7478 - val_accuracy: 0.6094\n",
            "Epoch 24/100\n",
            "8/8 [==============================] - 21s 3s/step - loss: 0.3143 - accuracy: 0.8531 - val_loss: 2.2539 - val_accuracy: 0.5742\n",
            "Epoch 25/100\n",
            "8/8 [==============================] - 21s 3s/step - loss: 0.3814 - accuracy: 0.8206 - val_loss: 1.2326 - val_accuracy: 0.6992\n",
            "Epoch 26/100\n",
            "8/8 [==============================] - 21s 3s/step - loss: 0.3094 - accuracy: 0.8570 - val_loss: 1.0385 - val_accuracy: 0.7383\n",
            "Epoch 27/100\n",
            "8/8 [==============================] - 23s 3s/step - loss: 0.4217 - accuracy: 0.8237 - val_loss: 1.4964 - val_accuracy: 0.6680\n",
            "Epoch 28/100\n",
            "8/8 [==============================] - 21s 3s/step - loss: 0.3528 - accuracy: 0.7999 - val_loss: 2.1642 - val_accuracy: 0.5898\n",
            "Epoch 29/100\n",
            "8/8 [==============================] - 21s 3s/step - loss: 0.3179 - accuracy: 0.8744 - val_loss: 1.6908 - val_accuracy: 0.6602\n",
            "Epoch 30/100\n",
            "8/8 [==============================] - 21s 3s/step - loss: 0.3119 - accuracy: 0.8698 - val_loss: 1.8854 - val_accuracy: 0.6250\n",
            "Epoch 31/100\n",
            "8/8 [==============================] - 21s 3s/step - loss: 0.3239 - accuracy: 0.8635 - val_loss: 1.4550 - val_accuracy: 0.6523\n",
            "Epoch 32/100\n",
            "8/8 [==============================] - 21s 3s/step - loss: 0.2833 - accuracy: 0.8794 - val_loss: 1.6523 - val_accuracy: 0.6367\n",
            "Epoch 33/100\n",
            "8/8 [==============================] - 21s 3s/step - loss: 0.2749 - accuracy: 0.8808 - val_loss: 1.5694 - val_accuracy: 0.6758\n",
            "Epoch 34/100\n",
            "8/8 [==============================] - 21s 3s/step - loss: 0.2696 - accuracy: 0.8849 - val_loss: 1.9249 - val_accuracy: 0.6328\n",
            "Epoch 35/100\n",
            "8/8 [==============================] - 23s 3s/step - loss: 0.2163 - accuracy: 0.9222 - val_loss: 1.1876 - val_accuracy: 0.7148\n",
            "Epoch 36/100\n",
            "8/8 [==============================] - 21s 3s/step - loss: 0.3151 - accuracy: 0.8392 - val_loss: 1.4847 - val_accuracy: 0.6992\n",
            "Epoch 37/100\n",
            "8/8 [==============================] - 21s 3s/step - loss: 0.2420 - accuracy: 0.9064 - val_loss: 1.7437 - val_accuracy: 0.6484\n",
            "Epoch 38/100\n",
            "8/8 [==============================] - 21s 3s/step - loss: 0.2052 - accuracy: 0.9134 - val_loss: 1.8237 - val_accuracy: 0.6680\n",
            "Epoch 39/100\n",
            "8/8 [==============================] - 21s 3s/step - loss: 0.1965 - accuracy: 0.9209 - val_loss: 2.1297 - val_accuracy: 0.6250\n",
            "Epoch 40/100\n",
            "8/8 [==============================] - 21s 3s/step - loss: 0.2145 - accuracy: 0.9173 - val_loss: 2.5858 - val_accuracy: 0.5977\n",
            "Epoch 41/100\n",
            "8/8 [==============================] - 21s 3s/step - loss: 0.2546 - accuracy: 0.9009 - val_loss: 1.5882 - val_accuracy: 0.6914\n",
            "Epoch 42/100\n",
            "8/8 [==============================] - 21s 3s/step - loss: 0.2025 - accuracy: 0.9261 - val_loss: 1.2194 - val_accuracy: 0.7344\n",
            "Epoch 43/100\n",
            "8/8 [==============================] - 21s 3s/step - loss: 0.2355 - accuracy: 0.9063 - val_loss: 1.9205 - val_accuracy: 0.6797\n",
            "Epoch 44/100\n",
            "8/8 [==============================] - 21s 3s/step - loss: 0.2246 - accuracy: 0.9006 - val_loss: 2.6974 - val_accuracy: 0.5898\n",
            "Epoch 45/100\n",
            "8/8 [==============================] - 21s 3s/step - loss: 0.2530 - accuracy: 0.8929 - val_loss: 2.0311 - val_accuracy: 0.6758\n",
            "Epoch 46/100\n",
            "8/8 [==============================] - 21s 3s/step - loss: 0.1875 - accuracy: 0.9248 - val_loss: 0.7400 - val_accuracy: 0.8477\n",
            "Epoch 47/100\n",
            "8/8 [==============================] - 23s 3s/step - loss: 0.3109 - accuracy: 0.8643 - val_loss: 2.0857 - val_accuracy: 0.6797\n",
            "Epoch 48/100\n",
            "8/8 [==============================] - 21s 3s/step - loss: 0.2044 - accuracy: 0.9138 - val_loss: 1.2394 - val_accuracy: 0.7188\n",
            "Epoch 49/100\n",
            "8/8 [==============================] - 21s 3s/step - loss: 0.2068 - accuracy: 0.9151 - val_loss: 1.9945 - val_accuracy: 0.6836\n",
            "Epoch 50/100\n",
            "8/8 [==============================] - 21s 3s/step - loss: 0.1993 - accuracy: 0.9247 - val_loss: 1.5191 - val_accuracy: 0.7148\n",
            "Epoch 51/100\n",
            "8/8 [==============================] - 21s 3s/step - loss: 0.1845 - accuracy: 0.9198 - val_loss: 1.6444 - val_accuracy: 0.6914\n",
            "Epoch 52/100\n",
            "8/8 [==============================] - 23s 3s/step - loss: 0.1857 - accuracy: 0.9262 - val_loss: 2.1506 - val_accuracy: 0.6680\n",
            "Epoch 53/100\n",
            "8/8 [==============================] - 21s 3s/step - loss: 0.2005 - accuracy: 0.9214 - val_loss: 2.0774 - val_accuracy: 0.6758\n",
            "Epoch 54/100\n",
            "8/8 [==============================] - 21s 3s/step - loss: 0.1640 - accuracy: 0.9392 - val_loss: 1.7335 - val_accuracy: 0.7148\n",
            "Epoch 55/100\n",
            "8/8 [==============================] - 21s 3s/step - loss: 0.1922 - accuracy: 0.9088 - val_loss: 2.6970 - val_accuracy: 0.6289\n",
            "Epoch 56/100\n",
            "8/8 [==============================] - 21s 3s/step - loss: 0.1777 - accuracy: 0.9389 - val_loss: 1.8141 - val_accuracy: 0.7031\n",
            "Epoch 57/100\n",
            "8/8 [==============================] - 21s 3s/step - loss: 0.1681 - accuracy: 0.9248 - val_loss: 2.9195 - val_accuracy: 0.5938\n",
            "Epoch 58/100\n",
            "8/8 [==============================] - 21s 3s/step - loss: 0.1583 - accuracy: 0.9412 - val_loss: 3.3763 - val_accuracy: 0.5703\n",
            "Epoch 59/100\n",
            "8/8 [==============================] - 21s 3s/step - loss: 0.2655 - accuracy: 0.8870 - val_loss: 1.9125 - val_accuracy: 0.6875\n",
            "Epoch 60/100\n",
            "8/8 [==============================] - 21s 3s/step - loss: 0.1708 - accuracy: 0.9269 - val_loss: 2.1176 - val_accuracy: 0.6797\n",
            "Epoch 61/100\n",
            "8/8 [==============================] - 21s 3s/step - loss: 0.1147 - accuracy: 0.9576 - val_loss: 2.3430 - val_accuracy: 0.6797\n",
            "Epoch 62/100\n",
            "8/8 [==============================] - 21s 3s/step - loss: 0.1646 - accuracy: 0.9406 - val_loss: 1.6562 - val_accuracy: 0.7383\n",
            "Epoch 63/100\n",
            "8/8 [==============================] - 21s 3s/step - loss: 0.1289 - accuracy: 0.9525 - val_loss: 3.3600 - val_accuracy: 0.5977\n",
            "Epoch 64/100\n",
            "8/8 [==============================] - 21s 3s/step - loss: 0.1665 - accuracy: 0.9451 - val_loss: 1.2032 - val_accuracy: 0.7344\n",
            "Epoch 65/100\n",
            "8/8 [==============================] - 21s 3s/step - loss: 0.1445 - accuracy: 0.9605 - val_loss: 1.3944 - val_accuracy: 0.7383\n",
            "Epoch 66/100\n",
            "8/8 [==============================] - 23s 3s/step - loss: 0.1437 - accuracy: 0.9497 - val_loss: 2.5625 - val_accuracy: 0.6523\n",
            "Epoch 67/100\n",
            "8/8 [==============================] - 24s 3s/step - loss: 0.1256 - accuracy: 0.9532 - val_loss: 2.7321 - val_accuracy: 0.6484\n",
            "Epoch 68/100\n",
            "8/8 [==============================] - 21s 3s/step - loss: 0.1575 - accuracy: 0.9430 - val_loss: 1.6541 - val_accuracy: 0.7188\n",
            "Epoch 69/100\n",
            "8/8 [==============================] - 21s 3s/step - loss: 0.1470 - accuracy: 0.9438 - val_loss: 0.6354 - val_accuracy: 0.8516\n",
            "Epoch 70/100\n",
            "8/8 [==============================] - 21s 3s/step - loss: 0.3140 - accuracy: 0.8749 - val_loss: 1.8437 - val_accuracy: 0.6875\n",
            "Epoch 71/100\n",
            "8/8 [==============================] - 21s 3s/step - loss: 0.1402 - accuracy: 0.9471 - val_loss: 1.7738 - val_accuracy: 0.7031\n",
            "Epoch 72/100\n",
            "8/8 [==============================] - 21s 3s/step - loss: 0.1181 - accuracy: 0.9547 - val_loss: 2.7846 - val_accuracy: 0.6602\n",
            "Epoch 73/100\n",
            "8/8 [==============================] - 21s 3s/step - loss: 0.1141 - accuracy: 0.9622 - val_loss: 3.0045 - val_accuracy: 0.6016\n",
            "Epoch 74/100\n",
            "8/8 [==============================] - 21s 3s/step - loss: 0.1427 - accuracy: 0.9389 - val_loss: 2.5424 - val_accuracy: 0.6602\n",
            "Epoch 75/100\n",
            "8/8 [==============================] - 21s 3s/step - loss: 0.1270 - accuracy: 0.9594 - val_loss: 1.4098 - val_accuracy: 0.7422\n",
            "Epoch 76/100\n",
            "8/8 [==============================] - 21s 3s/step - loss: 0.1386 - accuracy: 0.9506 - val_loss: 2.1995 - val_accuracy: 0.6836\n",
            "Epoch 77/100\n",
            "8/8 [==============================] - 21s 3s/step - loss: 0.1477 - accuracy: 0.9384 - val_loss: 1.9771 - val_accuracy: 0.6953\n",
            "Epoch 78/100\n",
            "8/8 [==============================] - 23s 3s/step - loss: 0.1212 - accuracy: 0.9562 - val_loss: 2.0597 - val_accuracy: 0.6875\n",
            "Epoch 79/100\n",
            "8/8 [==============================] - 21s 3s/step - loss: 0.1354 - accuracy: 0.9590 - val_loss: 2.5908 - val_accuracy: 0.6680\n",
            "Epoch 80/100\n",
            "8/8 [==============================] - 21s 3s/step - loss: 0.1594 - accuracy: 0.9337 - val_loss: 2.2023 - val_accuracy: 0.6914\n",
            "Epoch 81/100\n",
            "8/8 [==============================] - 21s 3s/step - loss: 0.1240 - accuracy: 0.9592 - val_loss: 2.7568 - val_accuracy: 0.6484\n",
            "Epoch 82/100\n",
            "8/8 [==============================] - 23s 3s/step - loss: 0.1316 - accuracy: 0.9470 - val_loss: 2.4308 - val_accuracy: 0.6719\n",
            "Epoch 83/100\n",
            "8/8 [==============================] - 23s 3s/step - loss: 0.0981 - accuracy: 0.9617 - val_loss: 1.6363 - val_accuracy: 0.7148\n",
            "Epoch 84/100\n",
            "8/8 [==============================] - 23s 3s/step - loss: 0.1095 - accuracy: 0.9587 - val_loss: 1.7013 - val_accuracy: 0.7266\n",
            "Epoch 85/100\n",
            "8/8 [==============================] - 21s 3s/step - loss: 0.1241 - accuracy: 0.9495 - val_loss: 2.8566 - val_accuracy: 0.6602\n",
            "Epoch 86/100\n",
            "8/8 [==============================] - 21s 3s/step - loss: 0.1274 - accuracy: 0.9530 - val_loss: 1.5674 - val_accuracy: 0.7227\n",
            "Epoch 87/100\n",
            "8/8 [==============================] - 23s 3s/step - loss: 0.1013 - accuracy: 0.9554 - val_loss: 1.8450 - val_accuracy: 0.7227\n",
            "Epoch 88/100\n",
            "8/8 [==============================] - 21s 3s/step - loss: 0.1238 - accuracy: 0.9512 - val_loss: 1.3280 - val_accuracy: 0.7539\n",
            "Epoch 89/100\n",
            "8/8 [==============================] - 21s 3s/step - loss: 0.1067 - accuracy: 0.9567 - val_loss: 2.3841 - val_accuracy: 0.6992\n",
            "Epoch 90/100\n",
            "8/8 [==============================] - 21s 3s/step - loss: 0.0869 - accuracy: 0.9700 - val_loss: 1.2944 - val_accuracy: 0.7578\n",
            "Epoch 91/100\n",
            "8/8 [==============================] - 21s 3s/step - loss: 0.0938 - accuracy: 0.9709 - val_loss: 1.8302 - val_accuracy: 0.7422\n",
            "Epoch 92/100\n",
            "8/8 [==============================] - 21s 3s/step - loss: 0.1681 - accuracy: 0.9400 - val_loss: 2.6891 - val_accuracy: 0.6562\n",
            "Epoch 93/100\n",
            "8/8 [==============================] - 21s 3s/step - loss: 0.1180 - accuracy: 0.9594 - val_loss: 2.6746 - val_accuracy: 0.6602\n",
            "Epoch 94/100\n",
            "8/8 [==============================] - 21s 3s/step - loss: 0.0929 - accuracy: 0.9647 - val_loss: 3.0410 - val_accuracy: 0.6523\n",
            "Epoch 95/100\n",
            "8/8 [==============================] - 21s 3s/step - loss: 0.0924 - accuracy: 0.9696 - val_loss: 4.1319 - val_accuracy: 0.5898\n",
            "Epoch 96/100\n",
            "8/8 [==============================] - 21s 3s/step - loss: 0.1698 - accuracy: 0.9300 - val_loss: 2.5830 - val_accuracy: 0.6836\n",
            "Epoch 97/100\n",
            "8/8 [==============================] - 23s 3s/step - loss: 0.0880 - accuracy: 0.9663 - val_loss: 2.1244 - val_accuracy: 0.7070\n",
            "Epoch 98/100\n",
            "8/8 [==============================] - 21s 3s/step - loss: 0.1327 - accuracy: 0.9471 - val_loss: 1.9468 - val_accuracy: 0.7070\n",
            "Epoch 99/100\n",
            "8/8 [==============================] - 23s 3s/step - loss: 0.0693 - accuracy: 0.9776 - val_loss: 3.8060 - val_accuracy: 0.5977\n",
            "Epoch 100/100\n",
            "8/8 [==============================] - 21s 3s/step - loss: 0.0854 - accuracy: 0.9696 - val_loss: 3.0084 - val_accuracy: 0.6562\n"
          ],
          "name": "stdout"
        }
      ]
    },
    {
      "cell_type": "code",
      "metadata": {
        "colab": {
          "base_uri": "https://localhost:8080/",
          "height": 545
        },
        "id": "7zNPRWOVJdOH",
        "outputId": "6c63e858-6eb4-49df-fc0c-396b0ac87eac"
      },
      "source": [
        "import matplotlib.pyplot as plt\n",
        "acc = history.history['accuracy']\n",
        "val_acc = history.history['val_accuracy']\n",
        "loss = history.history['loss']\n",
        "val_loss = history.history['val_loss']\n",
        "\n",
        "epochs = range(len(acc))\n",
        "\n",
        "plt.plot(epochs, acc, 'r', label='Training accuracy')\n",
        "plt.plot(epochs, val_acc, 'b', label='Validation accuracy')\n",
        "plt.title('Training and validation accuracy')\n",
        "\n",
        "plt.figure()\n",
        "\n",
        "plt.plot(epochs, loss, 'r', label='Training Loss')\n",
        "plt.plot(epochs, val_loss, 'b', label='Validation Loss')\n",
        "plt.title('Training and validation loss')\n",
        "plt.legend()\n",
        "\n",
        "plt.show()"
      ],
      "execution_count": null,
      "outputs": [
        {
          "output_type": "display_data",
          "data": {
            "image/png": "[encoded data removed]",
            "text/plain": [
              "<Figure size 432x288 with 1 Axes>"
            ]
          },
          "metadata": {
            "tags": [],
            "needs_background": "light"
          }
        },
        {
          "output_type": "display_data",
          "data": {
            "image/png": "[encoded data removed]",
            "text/plain": [
              "<Figure size 432x288 with 1 Axes>"
            ]
          },
          "metadata": {
            "tags": [],
            "needs_background": "light"
          }
        }
      ]
    }
  ]
}